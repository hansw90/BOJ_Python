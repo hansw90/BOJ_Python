{
 "cells": [
  {
   "cell_type": "markdown",
   "metadata": {},
   "source": [
    "# 5. Longest Palindromic Substring\n",
    "\n",
    "Given a string s, return the longest palindromic substring in s.\n",
    "\n",
    "\n",
    "Example 1:\n",
    "\n",
    "Input: s = \"babad\"\n",
    "Output: \"bab\"\n",
    "Explanation: \"aba\" is also a valid answer.\n",
    "Example 2:\n",
    "\n",
    "Input: s = \"cbbd\"\n",
    "Output: \"bb\"\n",
    " \n",
    "\n",
    "Constraints:\n",
    "\n",
    "1 <= s.length <= 1000\n",
    "s consist of only digits and English letters."
   ]
  },
  {
   "cell_type": "code",
   "execution_count": 122,
   "metadata": {},
   "outputs": [
    {
     "name": "stdout",
     "output_type": "stream",
     "text": [
      "a\n"
     ]
    }
   ],
   "source": [
    "from typing import List\n",
    "\n",
    "class Solution:\n",
    "\n",
    "\n",
    "    def longestPalindrome(self, s: str) -> str:\n",
    "        res_value = 0\n",
    "        res = \"\"\n",
    "\n",
    "        for i in range(len(s)):\n",
    "            shard = s[i:]\n",
    "            \n",
    "            pair = \"\"\n",
    "            slen = len(shard)\n",
    "            for j in range(slen//2, slen):\n",
    "                k = len(shard)-j-1\n",
    "                if (shard[j] == shard[k]):\n",
    "                    pair += shard[j]\n",
    "                else:\n",
    "                    break\n",
    "\n",
    "            if i==0:\n",
    "               res_value = 1\n",
    "               res = shard[0]\n",
    "\n",
    "            \n",
    "            if slen%2 == 0:\n",
    "                pair = pair[::-1] + pair\n",
    "            else:\n",
    "                pair = pair[1:][::-1] + pair\n",
    "            \n",
    "            if(len(pair) > res_value):\n",
    "                res_value = len(pair)\n",
    "                res = pair\n",
    "\n",
    "\n",
    "        for i in range(len(s)):\n",
    "            shard = s[:len(s)-i-1]\n",
    "            \n",
    "            pair = \"\"\n",
    "            slen = len(shard)\n",
    "            for j in range(slen//2, slen):\n",
    "                k = len(shard)-j-1\n",
    "                if (shard[j] == shard[k]):\n",
    "                    pair += shard[j]\n",
    "                else:\n",
    "                    break\n",
    "\n",
    "\n",
    "            if slen%2 == 0:\n",
    "                pair = pair[::-1] + pair\n",
    "            else:\n",
    "                pair = pair[1:][::-1] + pair\n",
    "            \n",
    "            if(len(pair) > res_value):\n",
    "                res_value = len(pair)\n",
    "                res = pair\n",
    "\n",
    "        return res\n",
    "\n",
    "if __name__ == \"__main__\":\n",
    "    s = Solution()\n",
    "    # \"aacabdkacaa\" \"aca\"\n",
    "    # \"abcba\" \"abcba\"\n",
    "    # \"cbbd\" \"bb\"\n",
    "    # \"ccd\" \"cc\"\n",
    "    # \"ac\" \"a\"\n",
    "    response = s.longestPalindrome(s = \"ac\")\n",
    "    print(response)\n",
    "        \n",
    "        "
   ]
  },
  {
   "cell_type": "markdown",
   "metadata": {},
   "source": [
    "Runtime: 1130 ms, faster than 67.10% of Python3 online submissions for Longest Palindromic Substring.\n",
    "Memory Usage: 14 MB, less than 64.30% of Python3 online submissions for Longest Palindromic Substring."
   ]
  }
 ],
 "metadata": {
  "interpreter": {
   "hash": "31f2aee4e71d21fbe5cf8b01ff0e069b9275f58929596ceb00d14d90e3e16cd6"
  },
  "kernelspec": {
   "display_name": "Python 3.8.9 64-bit",
   "language": "python",
   "name": "python3"
  },
  "language_info": {
   "codemirror_mode": {
    "name": "ipython",
    "version": 3
   },
   "file_extension": ".py",
   "mimetype": "text/x-python",
   "name": "python",
   "nbconvert_exporter": "python",
   "pygments_lexer": "ipython3",
   "version": "3.8.9"
  },
  "orig_nbformat": 4
 },
 "nbformat": 4,
 "nbformat_minor": 2
}
