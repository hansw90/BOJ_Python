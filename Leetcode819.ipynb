{
 "cells": [
  {
   "cell_type": "markdown",
   "metadata": {},
   "source": [
    "Given a string paragraph and a string array of the banned words banned, return the most frequent word that is not banned. It is guaranteed there is at least one word that is not banned, and that the answer is unique.\n",
    "\n",
    "The words in paragraph are case-insensitive and the answer should be returned in lowercase.\n",
    "\n",
    " \n",
    "\n",
    "Example 1:\n",
    "\n",
    "Input: paragraph = \"Bob hit a ball, the hit BALL flew far after it was hit.\", banned = [\"hit\"]\n",
    "Output: \"ball\"\n",
    "Explanation: \n",
    "\"hit\" occurs 3 times, but it is a banned word.\n",
    "\"ball\" occurs twice (and no other word does), so it is the most frequent non-banned word in the paragraph. \n",
    "Note that words in the paragraph are not case sensitive,\n",
    "that punctuation is ignored (even if adjacent to words, such as \"ball,\"), \n",
    "and that \"hit\" isn't the answer even though it occurs more because it is banned.\n",
    "Example 2:\n",
    "\n",
    "Input: paragraph = \"a.\", banned = []\n",
    "Output: \"a\"\n"
   ]
  },
  {
   "cell_type": "code",
   "execution_count": 40,
   "metadata": {},
   "outputs": [
    {
     "name": "stdout",
     "output_type": "stream",
     "text": [
      "['bob', 'hit', 'ball']\n",
      "bob\n"
     ]
    }
   ],
   "source": [
    "from typing import List\n",
    "\n",
    "class Solution:\n",
    "    \n",
    "    def mostCommonWord(self, paragraph: str, banned: List[str]) -> str:\n",
    "        paragraph = paragraph.lower()\n",
    "        symbol = {\"!\", \"?\", \"'\", \",\", \";\", \".\", \" \"}\n",
    "\n",
    "        word_candidate = \"\"\n",
    "        word_list = []\n",
    "        word_dict = {}\n",
    "        for i, c in enumerate(paragraph):\n",
    "            # 이부분이 굉장히 맘에 안듬\n",
    "\n",
    "            if (i+1 == len(paragraph) and c not in symbol):\n",
    "                word_candidate += c\n",
    "\n",
    "            if (c in symbol or i+1 == len(paragraph)):\n",
    "                if (len(word_candidate)):    \n",
    "                    word_list.append(word_candidate)\n",
    "                word_candidate = \"\"\n",
    "                continue\n",
    "\n",
    "            word_candidate += c\n",
    "            \n",
    "\n",
    "        # 해시사용 n(1) 적용 위해\n",
    "        banned = set(banned)\n",
    "        \n",
    "        rank_word = \"\"\n",
    "        rank_count = 0\n",
    "\n",
    "        print(word_list)\n",
    "        for word in word_list:\n",
    "            if word in banned:\n",
    "                continue\n",
    "            if word not in word_dict:\n",
    "                word_dict[word] = 1\n",
    "            else:\n",
    "                word_dict[word] = word_dict[word] + 1\n",
    "            \n",
    "            if word_dict[word] > rank_count:\n",
    "                rank_count = word_dict[word]\n",
    "                rank_word = word\n",
    "\n",
    "            \n",
    "        return rank_word\n",
    "\n",
    "if __name__ == \"__main__\":\n",
    "    s = Solution()\n",
    "    response = s.mostCommonWord(paragraph = \"Bob. hit, ball\", banned = [\"hit\"])\n",
    "    print(response)\n",
    "        \n",
    "        "
   ]
  },
  {
   "cell_type": "markdown",
   "metadata": {},
   "source": [
    "Runtime: 45 ms, faster than 67.34% of Python3 online submissions for Most Common Word.\n",
    "Memory Usage: 14 MB, less than 7.89% of Python3 online submissions for Most Common Word.\n",
    "\n",
    "속도는 봐줄만 한데,, 메모리 사용량이 너무 크다."
   ]
  },
  {
   "cell_type": "code",
   "execution_count": 43,
   "metadata": {},
   "outputs": [
    {
     "name": "stdout",
     "output_type": "stream",
     "text": [
      "['bob']\n",
      "['bob', 'hit']\n",
      "bob\n"
     ]
    }
   ],
   "source": [
    "class Solution:\n",
    "    def mostCommonWord(self, para: str, banned: List[str]) -> str:\n",
    "        \n",
    "        p = []\n",
    "        s = ''\n",
    "        banned = set(banned)\n",
    "        rem = {\"!\",\"?\",\"'\",\",\",\";\",\".\",\" \"}\n",
    "        freq = {}\n",
    "        \n",
    "        for c in para:\n",
    "            if c in rem:\n",
    "                if s: \n",
    "                    p.append(s)\n",
    "                    print(p)\n",
    "                s = ''\n",
    "                continue\n",
    "            \n",
    "            if c.isupper(): s += c.lower()\n",
    "            else: s += c\n",
    "        \n",
    "        if s: p.append(s)\n",
    "        maxfreq, maxword = 0, ''\n",
    "        \n",
    "        for w in p:\n",
    "            \n",
    "            if w in banned: continue\n",
    "            if w not in freq: freq[w] = 0\n",
    "                \n",
    "            freq[w] += 1\n",
    "            if freq[w] > maxfreq:\n",
    "                maxfreq = freq[w]\n",
    "                maxword = w\n",
    "                \n",
    "        return maxword\n",
    "\n",
    "if __name__ == \"__main__\":\n",
    "    s = Solution()\n",
    "    response = s.mostCommonWord(para = \"Bob. hit, ball\", banned = [\"hit\"])\n",
    "    print(response)"
   ]
  }
 ],
 "metadata": {
  "interpreter": {
   "hash": "31f2aee4e71d21fbe5cf8b01ff0e069b9275f58929596ceb00d14d90e3e16cd6"
  },
  "kernelspec": {
   "display_name": "Python 3.8.9 64-bit",
   "language": "python",
   "name": "python3"
  },
  "language_info": {
   "codemirror_mode": {
    "name": "ipython",
    "version": 3
   },
   "file_extension": ".py",
   "mimetype": "text/x-python",
   "name": "python",
   "nbconvert_exporter": "python",
   "pygments_lexer": "ipython3",
   "version": "3.8.9"
  },
  "orig_nbformat": 4
 },
 "nbformat": 4,
 "nbformat_minor": 2
}
